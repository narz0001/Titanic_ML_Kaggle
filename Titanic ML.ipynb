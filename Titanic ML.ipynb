{
 "cells": [
  {
   "cell_type": "markdown",
   "source": [
    "# Titanic - Machine Learning From Disaster (Kaggle Challenge)\n",
    "## Predictive model to ascertain likelihood of survival at the (unfortunate) Titanic based on given parameters. \n",
    "### From the perspective of a Year 1 - Business Analytics Student"
   ],
   "metadata": {
    "collapsed": false
   },
   "id": "2412701b2ef0921d"
  },
  {
   "cell_type": "markdown",
   "source": [
    "### Would follow Ken Jee's approach to analyzing the data. <br>Link to his YouTube channel: (https://www.youtube.com/@KenJee_ds/)"
   ],
   "metadata": {
    "collapsed": false
   },
   "id": "398ffb254577810c"
  },
  {
   "cell_type": "markdown",
   "source": [
    "## *__Data Overview__* (WIP)"
   ],
   "metadata": {
    "collapsed": false
   },
   "id": "31b91d4818ce9fd3"
  },
  {
   "cell_type": "code",
   "execution_count": 7,
   "outputs": [],
   "source": [
    "import pandas as pd\n",
    "import numpy as np\n",
    "import seaborn as sns\n",
    "import matplotlib.pyplot as plt\n",
    "from sklearn.linear_model import LogisticRegression #For Logistic Regression"
   ],
   "metadata": {
    "collapsed": false,
    "ExecuteTime": {
     "end_time": "2023-09-18T16:31:26.605532Z",
     "start_time": "2023-09-18T16:31:26.542624Z"
    }
   },
   "id": "fa45d4bdc6e1ada2"
  },
  {
   "cell_type": "markdown",
   "source": [
    "## *__Preliminary Data Loading and Investigation__*"
   ],
   "metadata": {
    "collapsed": false
   },
   "id": "8e320e7d2ccd4491"
  },
  {
   "cell_type": "code",
   "execution_count": 10,
   "outputs": [
    {
     "name": "stdout",
     "output_type": "stream",
     "text": [
      "<class 'pandas.core.frame.DataFrame'>\n",
      "Int64Index: 1309 entries, 0 to 417\n",
      "Data columns (total 13 columns):\n",
      " #   Column       Non-Null Count  Dtype  \n",
      "---  ------       --------------  -----  \n",
      " 0   PassengerId  1309 non-null   int64  \n",
      " 1   Survived     891 non-null    float64\n",
      " 2   Pclass       1309 non-null   int64  \n",
      " 3   Name         1309 non-null   object \n",
      " 4   Sex          1309 non-null   object \n",
      " 5   Age          1046 non-null   float64\n",
      " 6   SibSp        1309 non-null   int64  \n",
      " 7   Parch        1309 non-null   int64  \n",
      " 8   Ticket       1309 non-null   object \n",
      " 9   Fare         1308 non-null   float64\n",
      " 10  Cabin        295 non-null    object \n",
      " 11  Embarked     1307 non-null   object \n",
      " 12  train_test   1309 non-null   int64  \n",
      "dtypes: float64(3), int64(5), object(5)\n",
      "memory usage: 143.2+ KB\n"
     ]
    },
    {
     "data": {
      "text/plain": "   PassengerId  Survived  Pclass  \\\n0            1       0.0       3   \n1            2       1.0       1   \n2            3       1.0       3   \n3            4       1.0       1   \n4            5       0.0       3   \n5            6       0.0       3   \n6            7       0.0       1   \n7            8       0.0       3   \n8            9       1.0       3   \n9           10       1.0       2   \n\n                                                Name     Sex   Age  SibSp  \\\n0                            Braund, Mr. Owen Harris    male  22.0      1   \n1  Cumings, Mrs. John Bradley (Florence Briggs Th...  female  38.0      1   \n2                             Heikkinen, Miss. Laina  female  26.0      0   \n3       Futrelle, Mrs. Jacques Heath (Lily May Peel)  female  35.0      1   \n4                           Allen, Mr. William Henry    male  35.0      0   \n5                                   Moran, Mr. James    male   NaN      0   \n6                            McCarthy, Mr. Timothy J    male  54.0      0   \n7                     Palsson, Master. Gosta Leonard    male   2.0      3   \n8  Johnson, Mrs. Oscar W (Elisabeth Vilhelmina Berg)  female  27.0      0   \n9                Nasser, Mrs. Nicholas (Adele Achem)  female  14.0      1   \n\n   Parch            Ticket     Fare Cabin Embarked  train_test  \n0      0         A/5 21171   7.2500   NaN        S           1  \n1      0          PC 17599  71.2833   C85        C           1  \n2      0  STON/O2. 3101282   7.9250   NaN        S           1  \n3      0            113803  53.1000  C123        S           1  \n4      0            373450   8.0500   NaN        S           1  \n5      0            330877   8.4583   NaN        Q           1  \n6      0             17463  51.8625   E46        S           1  \n7      1            349909  21.0750   NaN        S           1  \n8      2            347742  11.1333   NaN        S           1  \n9      0            237736  30.0708   NaN        C           1  ",
      "text/html": "<div>\n<style scoped>\n    .dataframe tbody tr th:only-of-type {\n        vertical-align: middle;\n    }\n\n    .dataframe tbody tr th {\n        vertical-align: top;\n    }\n\n    .dataframe thead th {\n        text-align: right;\n    }\n</style>\n<table border=\"1\" class=\"dataframe\">\n  <thead>\n    <tr style=\"text-align: right;\">\n      <th></th>\n      <th>PassengerId</th>\n      <th>Survived</th>\n      <th>Pclass</th>\n      <th>Name</th>\n      <th>Sex</th>\n      <th>Age</th>\n      <th>SibSp</th>\n      <th>Parch</th>\n      <th>Ticket</th>\n      <th>Fare</th>\n      <th>Cabin</th>\n      <th>Embarked</th>\n      <th>train_test</th>\n    </tr>\n  </thead>\n  <tbody>\n    <tr>\n      <th>0</th>\n      <td>1</td>\n      <td>0.0</td>\n      <td>3</td>\n      <td>Braund, Mr. Owen Harris</td>\n      <td>male</td>\n      <td>22.0</td>\n      <td>1</td>\n      <td>0</td>\n      <td>A/5 21171</td>\n      <td>7.2500</td>\n      <td>NaN</td>\n      <td>S</td>\n      <td>1</td>\n    </tr>\n    <tr>\n      <th>1</th>\n      <td>2</td>\n      <td>1.0</td>\n      <td>1</td>\n      <td>Cumings, Mrs. John Bradley (Florence Briggs Th...</td>\n      <td>female</td>\n      <td>38.0</td>\n      <td>1</td>\n      <td>0</td>\n      <td>PC 17599</td>\n      <td>71.2833</td>\n      <td>C85</td>\n      <td>C</td>\n      <td>1</td>\n    </tr>\n    <tr>\n      <th>2</th>\n      <td>3</td>\n      <td>1.0</td>\n      <td>3</td>\n      <td>Heikkinen, Miss. Laina</td>\n      <td>female</td>\n      <td>26.0</td>\n      <td>0</td>\n      <td>0</td>\n      <td>STON/O2. 3101282</td>\n      <td>7.9250</td>\n      <td>NaN</td>\n      <td>S</td>\n      <td>1</td>\n    </tr>\n    <tr>\n      <th>3</th>\n      <td>4</td>\n      <td>1.0</td>\n      <td>1</td>\n      <td>Futrelle, Mrs. Jacques Heath (Lily May Peel)</td>\n      <td>female</td>\n      <td>35.0</td>\n      <td>1</td>\n      <td>0</td>\n      <td>113803</td>\n      <td>53.1000</td>\n      <td>C123</td>\n      <td>S</td>\n      <td>1</td>\n    </tr>\n    <tr>\n      <th>4</th>\n      <td>5</td>\n      <td>0.0</td>\n      <td>3</td>\n      <td>Allen, Mr. William Henry</td>\n      <td>male</td>\n      <td>35.0</td>\n      <td>0</td>\n      <td>0</td>\n      <td>373450</td>\n      <td>8.0500</td>\n      <td>NaN</td>\n      <td>S</td>\n      <td>1</td>\n    </tr>\n    <tr>\n      <th>5</th>\n      <td>6</td>\n      <td>0.0</td>\n      <td>3</td>\n      <td>Moran, Mr. James</td>\n      <td>male</td>\n      <td>NaN</td>\n      <td>0</td>\n      <td>0</td>\n      <td>330877</td>\n      <td>8.4583</td>\n      <td>NaN</td>\n      <td>Q</td>\n      <td>1</td>\n    </tr>\n    <tr>\n      <th>6</th>\n      <td>7</td>\n      <td>0.0</td>\n      <td>1</td>\n      <td>McCarthy, Mr. Timothy J</td>\n      <td>male</td>\n      <td>54.0</td>\n      <td>0</td>\n      <td>0</td>\n      <td>17463</td>\n      <td>51.8625</td>\n      <td>E46</td>\n      <td>S</td>\n      <td>1</td>\n    </tr>\n    <tr>\n      <th>7</th>\n      <td>8</td>\n      <td>0.0</td>\n      <td>3</td>\n      <td>Palsson, Master. Gosta Leonard</td>\n      <td>male</td>\n      <td>2.0</td>\n      <td>3</td>\n      <td>1</td>\n      <td>349909</td>\n      <td>21.0750</td>\n      <td>NaN</td>\n      <td>S</td>\n      <td>1</td>\n    </tr>\n    <tr>\n      <th>8</th>\n      <td>9</td>\n      <td>1.0</td>\n      <td>3</td>\n      <td>Johnson, Mrs. Oscar W (Elisabeth Vilhelmina Berg)</td>\n      <td>female</td>\n      <td>27.0</td>\n      <td>0</td>\n      <td>2</td>\n      <td>347742</td>\n      <td>11.1333</td>\n      <td>NaN</td>\n      <td>S</td>\n      <td>1</td>\n    </tr>\n    <tr>\n      <th>9</th>\n      <td>10</td>\n      <td>1.0</td>\n      <td>2</td>\n      <td>Nasser, Mrs. Nicholas (Adele Achem)</td>\n      <td>female</td>\n      <td>14.0</td>\n      <td>1</td>\n      <td>0</td>\n      <td>237736</td>\n      <td>30.0708</td>\n      <td>NaN</td>\n      <td>C</td>\n      <td>1</td>\n    </tr>\n  </tbody>\n</table>\n</div>"
     },
     "execution_count": 10,
     "metadata": {},
     "output_type": "execute_result"
    }
   ],
   "source": [
    "train_set = pd.read_csv(\"/Users/geolangsatnarzary/Study - NTU_NBS/01 - A-Career/Kaggle/train.csv\")\n",
    "test_set = pd.read_csv(\"/Users/geolangsatnarzary/Study - NTU_NBS/01 - A-Career/Kaggle/test.csv\")\n",
    "\n",
    "# Pre-defining the data sets with training or testing indicators for future data merges\n",
    "train_set[\"train_test\"] = 1\n",
    "test_set[\"train_test\"] = 0\n",
    "\n",
    "#Setting all values of test-set to NaN\n",
    "test_set[\"Survived\"] = np.NaN\n",
    "\n",
    "# Full merged data for future use\n",
    "df = pd.concat([train_set,test_set])\n",
    "\n",
    "df.info()\n",
    "df.head(10)"
   ],
   "metadata": {
    "collapsed": false,
    "ExecuteTime": {
     "end_time": "2023-09-18T17:00:09.563130Z",
     "start_time": "2023-09-18T17:00:09.505874Z"
    }
   },
   "id": "b14a78f00e37adfd"
  },
  {
   "cell_type": "markdown",
   "source": [
    "## *__Finding correlation between \"Survival\" and different variables - Logistic Regression (Categorical Y)__*"
   ],
   "metadata": {
    "collapsed": false
   },
   "id": "3502dc3b86293744"
  },
  {
   "cell_type": "markdown",
   "source": [
    "#### 1. Preparing data for Analysis"
   ],
   "metadata": {
    "collapsed": false
   },
   "id": "9894771a69bc8281"
  },
  {
   "cell_type": "code",
   "execution_count": 4,
   "outputs": [
    {
     "name": "stdout",
     "output_type": "stream",
     "text": [
      "     Pclass  Sex   Age  SibSp  Parch     Fare\n",
      "0         3    1  22.0      1      0   7.2500\n",
      "1         1    0  38.0      1      0  71.2833\n",
      "2         3    0  26.0      0      0   7.9250\n",
      "3         1    0  35.0      1      0  53.1000\n",
      "4         3    1  35.0      0      0   8.0500\n",
      "..      ...  ...   ...    ...    ...      ...\n",
      "886       2    1  27.0      0      0  13.0000\n",
      "887       1    0  19.0      0      0  30.0000\n",
      "888       3    0   NaN      1      2  23.4500\n",
      "889       1    1  26.0      0      0  30.0000\n",
      "890       3    1  32.0      0      0   7.7500\n",
      "\n",
      "[891 rows x 6 columns]\n"
     ]
    },
    {
     "name": "stderr",
     "output_type": "stream",
     "text": [
      "/var/folders/g3/qm_v9cxd4kv16kx3gxm1vbch0000gn/T/ipykernel_17256/1601353330.py:8: SettingWithCopyWarning: \n",
      "A value is trying to be set on a copy of a slice from a DataFrame.\n",
      "Try using .loc[row_indexer,col_indexer] = value instead\n",
      "\n",
      "See the caveats in the documentation: https://pandas.pydata.org/pandas-docs/stable/user_guide/indexing.html#returning-a-view-versus-a-copy\n",
      "  X[\"Sex\"] = X[\"Sex\"].map(gender_mapping)\n"
     ]
    }
   ],
   "source": [
    "original_data_copy = df\n",
    "\n",
    "\n",
    "y = df[\"Survived\"]\n",
    "\n",
    "X = df[[\"Pclass\",\"Sex\",\"Age\",\"SibSp\",\"Parch\",\"Fare\"]]\n",
    "\n",
    "gender_mapping = {\"male\": 1, \"female\": 0}\n",
    "X[\"Sex\"] = X[\"Sex\"].map(gender_mapping)\n",
    "\n",
    "print(X)"
   ],
   "metadata": {
    "collapsed": false,
    "ExecuteTime": {
     "end_time": "2023-09-18T16:26:01.366586Z",
     "start_time": "2023-09-18T16:26:00.827575Z"
    }
   },
   "id": "2b661f032c062380"
  },
  {
   "cell_type": "markdown",
   "source": [
    "#### 2. Data Cleanup"
   ],
   "metadata": {
    "collapsed": false
   },
   "id": "7085e32a8b4158d1"
  },
  {
   "cell_type": "code",
   "execution_count": 5,
   "outputs": [
    {
     "name": "stderr",
     "output_type": "stream",
     "text": [
      "/var/folders/g3/qm_v9cxd4kv16kx3gxm1vbch0000gn/T/ipykernel_17256/3009149820.py:5: SettingWithCopyWarning: \n",
      "A value is trying to be set on a copy of a slice from a DataFrame.\n",
      "Try using .loc[row_indexer,col_indexer] = value instead\n",
      "\n",
      "See the caveats in the documentation: https://pandas.pydata.org/pandas-docs/stable/user_guide/indexing.html#returning-a-view-versus-a-copy\n",
      "  X[X.isna().any(axis=1)] = X[\"Age\"].mean()\n"
     ]
    }
   ],
   "source": [
    "X[X.isna().any(axis=1)]\n",
    "#print(len(X[X.isna().any(axis=1)])) - 177\n",
    "\n",
    "#Replacing NaN values with mean age\n",
    "X[X.isna().any(axis=1)] = X[\"Age\"].mean()"
   ],
   "metadata": {
    "collapsed": false,
    "ExecuteTime": {
     "end_time": "2023-09-18T16:26:01.367199Z",
     "start_time": "2023-09-18T16:26:00.837076Z"
    }
   },
   "id": "29a5ac6d394d2f3e"
  },
  {
   "cell_type": "markdown",
   "source": [
    "#### 3. Logistic Regression"
   ],
   "metadata": {
    "collapsed": false
   },
   "id": "6c381ae26fa32170"
  },
  {
   "cell_type": "code",
   "execution_count": 6,
   "outputs": [
    {
     "data": {
      "text/plain": "<Figure size 1000x600 with 1 Axes>",
      "image/png": "[encoded data removed]"
     },
     "metadata": {},
     "output_type": "display_data"
    }
   ],
   "source": [
    "model = LogisticRegression()\n",
    "model.fit(X, y)\n",
    "\n",
    "# Create a bar chart to visualize feature importance (same as previous code)\n",
    "feature_importance = np.abs(model.coef_[0])\n",
    "plt.figure(figsize=(10, 6))\n",
    "plt.barh(X.columns, feature_importance)\n",
    "plt.xlabel(\"Feature Importance\")\n",
    "plt.title(\"Feature Importance in Logistic Regression\")\n",
    "plt.show()"
   ],
   "metadata": {
    "collapsed": false,
    "ExecuteTime": {
     "end_time": "2023-09-18T16:26:01.374757Z",
     "start_time": "2023-09-18T16:26:00.843557Z"
    }
   },
   "id": "a5ff3b7f8850c9df"
  },
  {
   "cell_type": "markdown",
   "source": [
    "#### Preliminary Notes:\n",
    "##### 1. \"Parch\" has the highest feature importance - The # of parents/children on board.\n",
    "######    This could likely mean that Parents/Children travelling together were given very high importance. Requires further investigation.\n",
    "##### 2. \"Sex\" has the second highest feature importance - The person's gender.\n",
    "######    This could likely mean that belonging to certain gender could increase the chances of survival. Requires further investigation.\n",
    "##### 3. \"Pclass\" has the third highest feature importance - The ticket class.\n",
    "######    This could likely mean that belonging to certain Pclass could increase the chances of survival. Requires further investigation."
   ],
   "metadata": {
    "collapsed": false
   },
   "id": "39e5ba5cb25be5c4"
  },
  {
   "cell_type": "code",
   "execution_count": 6,
   "outputs": [],
   "source": [],
   "metadata": {
    "collapsed": false,
    "ExecuteTime": {
     "end_time": "2023-09-18T16:26:01.375151Z",
     "start_time": "2023-09-18T16:26:00.975432Z"
    }
   },
   "id": "45ddfbc6a8dd2f77"
  }
 ],
 "metadata": {
  "kernelspec": {
   "display_name": "Python 3",
   "language": "python",
   "name": "python3"
  },
  "language_info": {
   "codemirror_mode": {
    "name": "ipython",
    "version": 2
   },
   "file_extension": ".py",
   "mimetype": "text/x-python",
   "name": "python",
   "nbconvert_exporter": "python",
   "pygments_lexer": "ipython2",
   "version": "2.7.6"
  }
 },
 "nbformat": 4,
 "nbformat_minor": 5
}
